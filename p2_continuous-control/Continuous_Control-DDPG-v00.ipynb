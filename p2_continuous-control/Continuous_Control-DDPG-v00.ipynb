{
 "cells": [
  {
   "cell_type": "markdown",
   "metadata": {},
   "source": [
    "# Continuous Control\n",
    "\n",
    "---\n",
    "\n",
    "In this notebook, you will learn how to use the Unity ML-Agents environment for the second project of the [Deep Reinforcement Learning Nanodegree](https://www.udacity.com/course/deep-reinforcement-learning-nanodegree--nd893) program.\n",
    "\n",
    "### 1. Start the Environment\n",
    "\n",
    "We begin by importing the necessary packages.  If the code cell below returns an error, please revisit the project instructions to double-check that you have installed [Unity ML-Agents](https://github.com/Unity-Technologies/ml-agents/blob/master/docs/Installation.md) and [NumPy](http://www.numpy.org/)."
   ]
  },
  {
   "cell_type": "code",
   "execution_count": 1,
   "metadata": {},
   "outputs": [],
   "source": [
    "%load_ext autoreload\n",
    "%autoreload 2"
   ]
  },
  {
   "cell_type": "code",
   "execution_count": 16,
   "metadata": {},
   "outputs": [],
   "source": [
    "\n",
    "import os\n",
    "from os import path\n",
    "import sys\n",
    "from collections import deque\n",
    "import pandas as pd\n",
    "import numpy as np\n",
    "import matplotlib.pyplot as plt\n",
    "import time\n",
    "import datetime as dt\n",
    "\n",
    "repo_path = path.dirname(path.dirname(path.abspath(\"__file__\")))\n",
    "repo_path\n",
    "sys.path.append(repo_path)"
   ]
  },
  {
   "cell_type": "code",
   "execution_count": 3,
   "metadata": {},
   "outputs": [],
   "source": [
    "from unityagents import UnityEnvironment\n"
   ]
  },
  {
   "cell_type": "markdown",
   "metadata": {},
   "source": [
    "Next, we will start the environment!  **_Before running the code cell below_**, change the `file_name` parameter to match the location of the Unity environment that you downloaded.\n",
    "\n",
    "- **Mac**: `\"path/to/Reacher.app\"`\n",
    "- **Windows** (x86): `\"path/to/Reacher_Windows_x86/Reacher.exe\"`\n",
    "- **Windows** (x86_64): `\"path/to/Reacher_Windows_x86_64/Reacher.exe\"`\n",
    "- **Linux** (x86): `\"path/to/Reacher_Linux/Reacher.x86\"`\n",
    "- **Linux** (x86_64): `\"path/to/Reacher_Linux/Reacher.x86_64\"`\n",
    "- **Linux** (x86, headless): `\"path/to/Reacher_Linux_NoVis/Reacher.x86\"`\n",
    "- **Linux** (x86_64, headless): `\"path/to/Reacher_Linux_NoVis/Reacher.x86_64\"`\n",
    "\n",
    "For instance, if you are using a Mac, then you downloaded `Reacher.app`.  If this file is in the same folder as the notebook, then the line below should appear as follows:\n",
    "```\n",
    "env = UnityEnvironment(file_name=\"Reacher.app\")\n",
    "```"
   ]
  },
  {
   "cell_type": "code",
   "execution_count": 4,
   "metadata": {},
   "outputs": [
    {
     "name": "stderr",
     "output_type": "stream",
     "text": [
      "INFO:unityagents:\n",
      "'Academy' started successfully!\n",
      "Unity Academy name: Academy\n",
      "        Number of Brains: 1\n",
      "        Number of External Brains : 1\n",
      "        Lesson number : 0\n",
      "        Reset Parameters :\n",
      "\t\tgoal_speed -> 1.0\n",
      "\t\tgoal_size -> 5.0\n",
      "Unity brain name: ReacherBrain\n",
      "        Number of Visual Observations (per agent): 0\n",
      "        Vector Observation space type: continuous\n",
      "        Vector Observation space size (per agent): 33\n",
      "        Number of stacked Vector Observation: 1\n",
      "        Vector Action space type: continuous\n",
      "        Vector Action space size (per agent): 4\n",
      "        Vector Action descriptions: , , , \n"
     ]
    }
   ],
   "source": [
    "env = UnityEnvironment(file_name='Reacher_Windows_x86_64/Reacher.exe')"
   ]
  },
  {
   "cell_type": "markdown",
   "metadata": {},
   "source": [
    "Environments contain **_brains_** which are responsible for deciding the actions of their associated agents. Here we check for the first brain available, and set it as the default brain we will be controlling from Python."
   ]
  },
  {
   "cell_type": "code",
   "execution_count": 5,
   "metadata": {},
   "outputs": [],
   "source": [
    "# get the default brain\n",
    "brain_name = env.brain_names[0]\n",
    "brain = env.brains[brain_name]"
   ]
  },
  {
   "cell_type": "markdown",
   "metadata": {},
   "source": [
    "### 2. Examine the State and Action Spaces\n",
    "\n",
    "In this environment, a double-jointed arm can move to target locations. A reward of `+0.1` is provided for each step that the agent's hand is in the goal location. Thus, the goal of your agent is to maintain its position at the target location for as many time steps as possible.\n",
    "\n",
    "The observation space consists of `33` variables corresponding to position, rotation, velocity, and angular velocities of the arm.  Each action is a vector with four numbers, corresponding to torque applicable to two joints.  Every entry in the action vector must be a number between `-1` and `1`.\n",
    "\n",
    "Run the code cell below to print some information about the environment."
   ]
  },
  {
   "cell_type": "code",
   "execution_count": 6,
   "metadata": {},
   "outputs": [
    {
     "name": "stdout",
     "output_type": "stream",
     "text": [
      "Number of agents: 1\n",
      "Size of each action: 4\n",
      "There are 1 agents. Each observes a state with length: 33\n",
      "The state for the first agent looks like: [ 0.00000000e+00 -4.00000000e+00  0.00000000e+00  1.00000000e+00\n",
      " -0.00000000e+00 -0.00000000e+00 -4.37113883e-08  0.00000000e+00\n",
      "  0.00000000e+00  0.00000000e+00  0.00000000e+00  0.00000000e+00\n",
      "  0.00000000e+00  0.00000000e+00 -1.00000000e+01  0.00000000e+00\n",
      "  1.00000000e+00 -0.00000000e+00 -0.00000000e+00 -4.37113883e-08\n",
      "  0.00000000e+00  0.00000000e+00  0.00000000e+00  0.00000000e+00\n",
      "  0.00000000e+00  0.00000000e+00  5.75471878e+00 -1.00000000e+00\n",
      "  5.55726671e+00  0.00000000e+00  1.00000000e+00  0.00000000e+00\n",
      " -1.68164849e-01]\n"
     ]
    }
   ],
   "source": [
    "# reset the environment\n",
    "env_info = env.reset(train_mode=True)[brain_name]\n",
    "\n",
    "# number of agents\n",
    "num_agents = len(env_info.agents)\n",
    "print('Number of agents:', num_agents)\n",
    "\n",
    "# size of each action\n",
    "action_size = brain.vector_action_space_size\n",
    "print('Size of each action:', action_size)\n",
    "\n",
    "# examine the state space \n",
    "states = env_info.vector_observations\n",
    "state_size = states.shape[1]\n",
    "print('There are {} agents. Each observes a state with length: {}'.format(states.shape[0], state_size))\n",
    "print('The state for the first agent looks like:', states[0])"
   ]
  },
  {
   "cell_type": "markdown",
   "metadata": {},
   "source": [
    "### 3. Take Random Actions in the Environment\n",
    "\n",
    "In the next code cell, you will learn how to use the Python API to control the agent and receive feedback from the environment.\n",
    "\n",
    "Once this cell is executed, you will watch the agent's performance, if it selects an action at random with each time step.  A window should pop up that allows you to observe the agent, as it moves through the environment.  \n",
    "\n",
    "Of course, as part of the project, you'll have to change the code so that the agent is able to use its experience to gradually choose better actions when interacting with the environment!"
   ]
  },
  {
   "cell_type": "code",
   "execution_count": null,
   "metadata": {},
   "outputs": [],
   "source": [
    "env_info = env.reset(train_mode=False)[brain_name]     # reset the environment    \n",
    "states = env_info.vector_observations                  # get the current state (for each agent)\n",
    "scores = np.zeros(num_agents)                          # initialize the score (for each agent)\n",
    "while True:\n",
    "    actions = np.random.randn(num_agents, action_size) # select an action (for each agent)\n",
    "    actions = np.clip(actions, -1, 1)                  # all actions between -1 and 1\n",
    "    env_info = env.step(actions)[brain_name]           # send all actions to tne environment\n",
    "    next_states = env_info.vector_observations         # get next state (for each agent)\n",
    "    rewards = env_info.rewards                         # get reward (for each agent)\n",
    "    dones = env_info.local_done                        # see if episode finished\n",
    "    scores += env_info.rewards                         # update the score (for each agent)\n",
    "    states = next_states                               # roll over states to next time step\n",
    "    if np.any(dones):                                  # exit loop if episode finished\n",
    "        break\n",
    "print('Total score (averaged over agents) this episode: {}'.format(np.mean(scores)))"
   ]
  },
  {
   "cell_type": "markdown",
   "metadata": {},
   "source": [
    "When finished, you can close the environment."
   ]
  },
  {
   "cell_type": "code",
   "execution_count": null,
   "metadata": {},
   "outputs": [],
   "source": [
    "env.close()"
   ]
  },
  {
   "cell_type": "markdown",
   "metadata": {},
   "source": [
    "### 4. It's Your Turn!\n",
    "\n",
    "Now it's your turn to train your own agent to solve the environment!  When training the environment, set `train_mode=True`, so that the line for resetting the environment looks like the following:\n",
    "```python\n",
    "env_info = env.reset(train_mode=True)[brain_name]\n",
    "```"
   ]
  },
  {
   "cell_type": "code",
   "execution_count": 7,
   "metadata": {},
   "outputs": [],
   "source": [
    "from src.ac_agent import AgentDDPG, GaussianProcess"
   ]
  },
  {
   "cell_type": "code",
   "execution_count": 8,
   "metadata": {},
   "outputs": [],
   "source": [
    "def action_scaler(actions):\n",
    "    \"\"\"Clips action values between -1 and 1\"\"\"\n",
    "    \n",
    "    return np.clip(actions, -1, 1)"
   ]
  },
  {
   "cell_type": "code",
   "execution_count": 21,
   "metadata": {},
   "outputs": [],
   "source": [
    "def train(env, agent, n_episodes, max_t=1000, solved=30, *args, **kwargs):\n",
    "    \"\"\"\n",
    "\n",
    "    \"\"\"\n",
    "    action_scaler_fn = kwargs.get('action_scaler_fn', lambda x: x)\n",
    "    noise_decay = kwargs.get('noise_decay', None)\n",
    "    model_save_path = kwargs.get('model_save_path', None)\n",
    "    min_noise_weight = kwargs.get('min_noise_weight', 0.1)\n",
    "    \n",
    "    noise_weight = 1.\n",
    "    \n",
    "    env_info = env.reset(train_mode=True)[brain_name]  \n",
    "    num_agents = len(env_info.agents)\n",
    "    \n",
    "    scores_hist = np.zeros((0, num_agents))\n",
    "    scores_window = deque(maxlen=100)\n",
    "    \n",
    "    for i_episode in range(1, n_episodes+1): \n",
    "        \n",
    "        # Reset the enviroment\n",
    "        env_info = env.reset(train_mode=True)[brain_name]      # reset the environment           \n",
    "        states = env_info.vector_observations                  # get the current state (for each agent)\n",
    "        scores = np.zeros(num_agents)                          # initialize the score (for each agent)\n",
    "        start_time = time.time()\n",
    "        for i in range(max_t + 1):\n",
    "            # Predict the best action for the current state. \n",
    "            actions = agent.act(states, add_noise = True, noise_weight = noise_weight)\n",
    "            actions = action_scaler_fn(actions)\n",
    "            #\n",
    "            env_info = env.step(actions)[brain_name]           # send all actions to tne environment\n",
    "            next_states = env_info.vector_observations         # get next state (for each agent)\n",
    "            rewards = env_info.rewards                         # get reward (for each agent)\n",
    "            dones = env_info.local_done                        # see if episode finished\n",
    "            for state, action, reward, next_state, done in zip(states, actions, rewards, next_states, dones):\n",
    "                agent.step(state, action, reward, next_state, done)\n",
    "            scores += rewards                                  # update the score (for each agent)\n",
    "            states = next_states                               # roll over states to next time step\n",
    "            #\n",
    "\n",
    "            if np.any(dones):  # exit loop if episode finished\n",
    "                scores_hist = np.vstack([scores_hist, scores])\n",
    "                scores_window.append(scores)\n",
    "                break\n",
    "        duration = time.time() - start_time\n",
    "        print('\\rEpisode {}\\t{}s\\tAverage Score: {:.2f}'.format(i_episode, round(duration), np.mean(scores_window)), end=\"\")        \n",
    "        # schedule exploration-explotation\n",
    "        if noise_decay is not None:\n",
    "            noise_weight = max(noise_decay**i_episode, min_noise_weight)\n",
    "        avg_scores_window = np.mean(scores_window)\n",
    "        # report\n",
    "        if (i_episode) % 100 == 0:\n",
    "            print('\\rEpisode [{}/{}]\\tAverage score: {:,.2f}'.format(i_episode, n_episodes, avg_scores_window))  \n",
    "            if (i_episode) % 500 == 0:\n",
    "                if hasattr(agent, \"save_network\") and model_save_path is not None:\n",
    "                    model_checkpoint_path = os.path.join(model_save_path, 'checkpoint')\n",
    "                    agent.save_network(model_checkpoint_path)\n",
    "                    pd.DataFrame(scores_hist).to_csv(os.path.join(model_checkpoint_path, 'scores.csv'))\n",
    "            \n",
    "        if avg_scores_window >= solved:\n",
    "            print('\\nEnvironment solved in {:d} episodes!\\tAverage Score: {:.2f}'.format(i_episode-100, avg_scores_window))\n",
    "            if hasattr(agent, \"save_network\") and model_save_path is not None:\n",
    "                agent.save_network(model_save_path)\n",
    "            break\n",
    "        \n",
    "        res = pd.DataFrame(scores_hist)\n",
    "        res.index.name = 'idx_episode'\n",
    "        res['avg_score'] = res.mean(axis=1)\n",
    "        res['avg_score_mave100'] = res['avg_score'].rolling(100).mean()\n",
    "        \n",
    "    return res"
   ]
  },
  {
   "cell_type": "code",
   "execution_count": 22,
   "metadata": {},
   "outputs": [],
   "source": [
    "RND_SEED = 123"
   ]
  },
  {
   "cell_type": "code",
   "execution_count": 23,
   "metadata": {},
   "outputs": [],
   "source": [
    "from src.ac_agent import AgentDDPG, GaussianProcess"
   ]
  },
  {
   "cell_type": "code",
   "execution_count": 24,
   "metadata": {},
   "outputs": [],
   "source": [
    "g_noise = GaussianProcess(num_agents, RND_SEED, mu=0, sigma=0.15)"
   ]
  },
  {
   "cell_type": "code",
   "execution_count": 25,
   "metadata": {},
   "outputs": [],
   "source": [
    "ddpg_agent1 = AgentDDPG(\n",
    "    state_size=state_size, action_size=action_size, gamma=0.99,\n",
    "    actor_hidden_layers=(128,64), critic_hidden_layers=(92, 128),\n",
    "    #actor_hidden_layers=(256, 128), critic_hidden_layers=(192, 256),\n",
    "    #actor_hidden_layers=(400, 300), critic_hidden_layers=(400, 300),\n",
    "    grad_clipping=(0, 1.0),\n",
    "    batch_size=128, learning_rates=(1e-3, 1e-3), weight_decay=(0, 1e-2),\n",
    "    soft_upd_param=1e-3, update_every=4, buffer_size=int(1e5),\n",
    "    noise=g_noise,\n",
    "    seed=RND_SEED, action_dtype='float')"
   ]
  },
  {
   "cell_type": "code",
   "execution_count": null,
   "metadata": {},
   "outputs": [
    {
     "name": "stdout",
     "output_type": "stream",
     "text": [
      "Episode [100/3000]\tAverage score: 0.90\n",
      "Episode [200/3000]\tAverage score: 0.96\n",
      "Episode [300/3000]\tAverage score: 0.92\n",
      "Episode [400/3000]\tAverage score: 0.98\n",
      "Episode [500/3000]\tAverage score: 0.84\n",
      "Episode [600/3000]\tAverage score: 0.89\n",
      "Episode [700/3000]\tAverage score: 0.90\n",
      "Episode [800/3000]\tAverage score: 0.90\n",
      "Episode [900/3000]\tAverage score: 0.87\n",
      "Episode [1000/3000]\tAverage score: 0.90\n",
      "Episode 1073\t12s\tAverage Score: 0.93"
     ]
    }
   ],
   "source": [
    "\n",
    "path_ddpg_agent1 = os.path.join('models','ddpg1')\n",
    "\n",
    "scores_ddpg1 = train(env, ddpg_agent1, n_episodes=3000, max_t=1000, solved=30,\n",
    "                     action_scaler_fn=action_scaler,  add_noise=True, noise_decay=0.9995, min_noise_weight=0.05,\n",
    "                    model_save_path=path_ddpg_agent1)"
   ]
  },
  {
   "cell_type": "code",
   "execution_count": 23,
   "metadata": {},
   "outputs": [],
   "source": [
    "scores_ddpg1['experiment'] = 'ddpg:v01'\n",
    "scores_ddpg1.index.name = 'idx_episode'"
   ]
  },
  {
   "cell_type": "code",
   "execution_count": 13,
   "metadata": {},
   "outputs": [
    {
     "data": {
      "text/plain": [
       "N_episodes                      508\n",
       "gamma                          0.99\n",
       "hidden_layers              [64, 32]\n",
       "drop_p                          0.2\n",
       "batch_size                       64\n",
       "learning_rate                0.0005\n",
       "soft_upd_param                0.001\n",
       "update_every                      4\n",
       "buffer_size                  100000\n",
       "solved                         True\n",
       "checkpoint        dq_checkpoint.pth\n",
       "Name: experiment:dqn:v01, dtype: object"
      ]
     },
     "execution_count": 13,
     "metadata": {},
     "output_type": "execute_result"
    }
   ],
   "source": [
    "checkpoint_metadata = pd.Series(index=['N_episodes', 'gamma', 'actor_hidden_layers', 'critic_hidden_layers',\n",
    "                'grad_clipping', 'batch_size', 'learning_rates',\n",
    "                'soft_upd_param', 'update_every', 'buffer_size', 'noise', 'solved',\n",
    "                'checkpoint_folder'],\n",
    "         data = [len(scores_ddpg1), 0.99, [128,64], [92, 128], \n",
    "                 (0, 1.), 128, (1e-3, 1e-3), 1e-3, 4, int(1e5), True, 'ddpg1'], name='experiment:ddpg:v01')\n",
    "checkpoint_metadata"
   ]
  },
  {
   "cell_type": "code",
   "execution_count": 14,
   "metadata": {},
   "outputs": [],
   "source": [
    "import datetime as dt\n",
    "experiment_dt = dt.datetime.strftime(dt.datetime.now(), \"%Y%m%d%H%M%S\")"
   ]
  },
  {
   "cell_type": "code",
   "execution_count": 25,
   "metadata": {},
   "outputs": [],
   "source": [
    "checkpoint_metadata.to_json(f'models/experiments/hparams_{experiment_dt}.json')\n",
    "scores_ddpg1.to_csv(f'models/experiments/scores_{experiment_dt}.csv')"
   ]
  },
  {
   "cell_type": "code",
   "execution_count": null,
   "metadata": {},
   "outputs": [],
   "source": []
  }
 ],
 "metadata": {
  "kernelspec": {
   "display_name": "Python 3",
   "language": "python",
   "name": "python3"
  },
  "language_info": {
   "codemirror_mode": {
    "name": "ipython",
    "version": 3
   },
   "file_extension": ".py",
   "mimetype": "text/x-python",
   "name": "python",
   "nbconvert_exporter": "python",
   "pygments_lexer": "ipython3",
   "version": "3.6.12"
  }
 },
 "nbformat": 4,
 "nbformat_minor": 4
}
