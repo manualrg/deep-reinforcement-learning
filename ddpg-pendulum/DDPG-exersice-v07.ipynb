{
 "cells": [
  {
   "cell_type": "markdown",
   "metadata": {},
   "source": [
    "# Deep Deterministic Policy Gradients (DDPG)\n",
    "---\n",
    "In this notebook, we train DDPG with OpenAI Gym's Pendulum-v0 environment.\n",
    "\n",
    "### 1. Import the Necessary Packages"
   ]
  },
  {
   "cell_type": "code",
   "execution_count": 1,
   "metadata": {},
   "outputs": [],
   "source": [
    "%load_ext autoreload\n",
    "%autoreload 2"
   ]
  },
  {
   "cell_type": "code",
   "execution_count": 2,
   "metadata": {},
   "outputs": [],
   "source": [
    "import gym\n",
    "import random\n",
    "import torch\n",
    "import numpy as np\n",
    "import pandas as pd\n",
    "from collections import deque\n",
    "import matplotlib.pyplot as plt\n",
    "import datetime as dt\n",
    "\n",
    "%matplotlib inline\n",
    "\n",
    "from ddpg_agent import Agent"
   ]
  },
  {
   "cell_type": "code",
   "execution_count": 3,
   "metadata": {},
   "outputs": [],
   "source": [
    "import os\n",
    "import sys\n",
    "\n",
    "repo_path = os.path.dirname(os.path.dirname(os.path.abspath(\"__file__\")))\n",
    "repo_path\n",
    "sys.path.append(repo_path)"
   ]
  },
  {
   "cell_type": "markdown",
   "metadata": {},
   "source": [
    "### 2. Instantiate the Environment and Agent"
   ]
  },
  {
   "cell_type": "code",
   "execution_count": 4,
   "metadata": {},
   "outputs": [],
   "source": [
    "env = gym.make('Pendulum-v0')\n",
    "env.seed(2)\n",
    "agent = Agent(state_size=3, action_size=1, random_seed=2)"
   ]
  },
  {
   "cell_type": "code",
   "execution_count": 5,
   "metadata": {},
   "outputs": [
    {
     "name": "stdout",
     "output_type": "stream",
     "text": [
      "State shape:  3\n",
      "Number of actions:  3\n"
     ]
    }
   ],
   "source": [
    "state_size = env.observation_space.shape[0]\n",
    "action_size = env.action_space.shape[0]\n",
    "print('State shape: ', state_size)\n",
    "print('Number of actions: ', state_size)"
   ]
  },
  {
   "cell_type": "code",
   "execution_count": 6,
   "metadata": {},
   "outputs": [
    {
     "data": {
      "text/plain": [
       "(array([-2.], dtype=float32), array([2.], dtype=float32))"
      ]
     },
     "execution_count": 6,
     "metadata": {},
     "output_type": "execute_result"
    }
   ],
   "source": [
    "env.action_space.low, env.action_space.high"
   ]
  },
  {
   "cell_type": "code",
   "execution_count": 7,
   "metadata": {},
   "outputs": [],
   "source": [
    "num_agents = 1\n",
    "experiences = []\n",
    "t_step = 0\n",
    "scores = np.zeros(num_agents)  \n",
    "scores_hist = np.zeros((0, num_agents))\n",
    "scores_window = deque(maxlen=100)\n",
    "    \n",
    "# watch an untrained agent\n",
    "states = env.reset()\n",
    "while True:\n",
    "    actions = agent.act(states)\n",
    "    states, rewards, dones, _ = env.step(actions)\n",
    "    experiences.append((states, actions, rewards))\n",
    "    scores += rewards\n",
    "    t_step += 1\n",
    "    if np.any(dones):\n",
    "        scores_hist = np.vstack([scores_hist, scores])\n",
    "        scores_window.append(scores)\n",
    "        break \n",
    "        "
   ]
  },
  {
   "cell_type": "code",
   "execution_count": 8,
   "metadata": {},
   "outputs": [
    {
     "data": {
      "text/plain": [
       "(200, array([-1341.86284827]), -1341.8628482684444, -1341.8628482684444)"
      ]
     },
     "execution_count": 8,
     "metadata": {},
     "output_type": "execute_result"
    }
   ],
   "source": [
    "t_step, scores, np.mean(scores_hist), np.mean(scores_window)"
   ]
  },
  {
   "cell_type": "code",
   "execution_count": 9,
   "metadata": {},
   "outputs": [],
   "source": [
    "states = env.reset()\n",
    "t_step = 0\n",
    "scores = np.zeros(num_agents)  \n",
    "\n",
    "while True:\n",
    "    actions = agent.act(states)\n",
    "    states, rewards, dones, _ = env.step(actions)\n",
    "    experiences.append((states, actions, rewards))\n",
    "    scores += rewards\n",
    "    t_step += 1\n",
    "    if np.any(dones):\n",
    "        scores_hist = np.vstack([scores_hist, scores])\n",
    "        scores_window.append(scores)\n",
    "        break \n",
    "        "
   ]
  },
  {
   "cell_type": "code",
   "execution_count": 10,
   "metadata": {},
   "outputs": [
    {
     "data": {
      "text/plain": [
       "(200, array([-1260.34965547]), -1301.1062518709334, -1301.1062518709334)"
      ]
     },
     "execution_count": 10,
     "metadata": {},
     "output_type": "execute_result"
    }
   ],
   "source": [
    "t_step, scores, np.mean(scores_hist), np.mean(scores_window)"
   ]
  },
  {
   "cell_type": "markdown",
   "metadata": {},
   "source": [
    "### 3. Train the Agent with DDPG"
   ]
  },
  {
   "cell_type": "code",
   "execution_count": 11,
   "metadata": {},
   "outputs": [],
   "source": [
    "from src.ac_agent import AgentDDPG, GaussianProcess, OUNoise\n",
    "from src.utils import action_scaler_fn\n",
    "from ddpg_train import train"
   ]
  },
  {
   "cell_type": "code",
   "execution_count": 12,
   "metadata": {},
   "outputs": [
    {
     "data": {
      "text/plain": [
       "(-1.0, -2.0, 1.0, 2.0)"
      ]
     },
     "execution_count": 12,
     "metadata": {},
     "output_type": "execute_result"
    }
   ],
   "source": [
    "from functools import partial\n",
    "\n",
    "action_scaler = partial(action_scaler_fn, lower=-2., upper=2.)\n",
    "action_scaler(np.array(-1)), action_scaler(np.array(-3)), action_scaler(np.array(1)), action_scaler(np.array(3)), "
   ]
  },
  {
   "cell_type": "code",
   "execution_count": 13,
   "metadata": {},
   "outputs": [],
   "source": [
    "RND_SEED = 123\n",
    "num_agents = 1\n",
    "EXP_NAME = \"ddpg:v07\"\n",
    "EXP_FOLDER = \"ddpg7\""
   ]
  },
  {
   "cell_type": "code",
   "execution_count": 14,
   "metadata": {},
   "outputs": [],
   "source": [
    "g_noise = GaussianProcess(num_agents, RND_SEED)"
   ]
  },
  {
   "cell_type": "code",
   "execution_count": 15,
   "metadata": {},
   "outputs": [],
   "source": [
    "ddpg_agent = AgentDDPG(\n",
    "    state_size=state_size, action_size=action_size, gamma=0.99,\n",
    "    actor_hidden_layers=(256, 128), critic_hidden_layers=(256, 128), actor_add_bn=(False), critic_add_bn=(False),\n",
    "    batch_size=128, learning_rates=(1e-4, 1e-3), grad_clipping=(False, 1.), weight_decay=(0, 1e-2),\n",
    "    soft_upd_param=1e-3, update_every=1, buffer_size=int(1e5),\n",
    "    noise=g_noise, learn_every=1, learn_num=1,\n",
    "    seed=RND_SEED, action_dtype='float')"
   ]
  },
  {
   "cell_type": "code",
   "execution_count": 16,
   "metadata": {},
   "outputs": [
    {
     "name": "stdout",
     "output_type": "stream",
     "text": [
      "Episode [100/500]\tAverage score: -1,340.87\n",
      "Episode [200/500]\tAverage score: -1,298.76\n",
      "Episode [300/500]\tAverage score: -1,339.64\n",
      "Episode [400/500]\tAverage score: -1,346.97\n",
      "Episode [500/500]\tAverage score: -1,333.17\n"
     ]
    }
   ],
   "source": [
    "path_ddpg_agent = os.path.join('models', EXP_FOLDER)\n",
    "\n",
    "scores_ddpg = train(\n",
    "    env, ddpg_agent, n_episodes=500, max_t=200, solved=-50, action_scaler_fn=action_scaler,\n",
    "    add_noise=True, noise_decay=.995, min_noise_weight=.1,\n",
    "    model_save_path=path_ddpg_agent)"
   ]
  },
  {
   "cell_type": "code",
   "execution_count": 17,
   "metadata": {},
   "outputs": [
    {
     "data": {
      "image/png": "[encoded data removed]",
      "text/plain": [
       "<Figure size 432x288 with 1 Axes>"
      ]
     },
     "metadata": {
      "needs_background": "light"
     },
     "output_type": "display_data"
    }
   ],
   "source": [
    "scores_ddpg.plot(y=['score', 'avg_score_mave100'])\n",
    "plt.show()"
   ]
  },
  {
   "cell_type": "code",
   "execution_count": 18,
   "metadata": {},
   "outputs": [],
   "source": [
    "scores_ddpg['experiment'] = EXP_NAME\n"
   ]
  },
  {
   "cell_type": "code",
   "execution_count": 19,
   "metadata": {},
   "outputs": [
    {
     "ename": "ValueError",
     "evalue": "Length of passed values is 14, index implies 13.",
     "output_type": "error",
     "traceback": [
      "\u001b[1;31m---------------------------------------------------------------------------\u001b[0m",
      "\u001b[1;31mValueError\u001b[0m                                Traceback (most recent call last)",
      "\u001b[1;32m<ipython-input-19-6f09f1bf1be6>\u001b[0m in \u001b[0;36m<module>\u001b[1;34m\u001b[0m\n\u001b[0;32m      4\u001b[0m                 'checkpoint_folder'],\n\u001b[0;32m      5\u001b[0m          data = [len(scores_ddpg), 0.99, [256, 128], [256, 128], [False, False],\n\u001b[1;32m----> 6\u001b[1;33m                  (0, 1.), 128, (1e-3, 1e-3), 1e-3, 1, int(1e5), 'g-noise', True, EXP_FOLDER], name=f'experiment:{EXP_NAME}')\n\u001b[0m\u001b[0;32m      7\u001b[0m \u001b[0mcheckpoint_metadata\u001b[0m\u001b[1;33m\u001b[0m\u001b[1;33m\u001b[0m\u001b[0m\n",
      "\u001b[1;32mC:\\ProgramData\\Anaconda3\\envs\\drlnd\\lib\\site-packages\\pandas\\core\\series.py\u001b[0m in \u001b[0;36m__init__\u001b[1;34m(self, data, index, dtype, name, copy, fastpath)\u001b[0m\n\u001b[0;32m    312\u001b[0m                     \u001b[1;32mif\u001b[0m \u001b[0mlen\u001b[0m\u001b[1;33m(\u001b[0m\u001b[0mindex\u001b[0m\u001b[1;33m)\u001b[0m \u001b[1;33m!=\u001b[0m \u001b[0mlen\u001b[0m\u001b[1;33m(\u001b[0m\u001b[0mdata\u001b[0m\u001b[1;33m)\u001b[0m\u001b[1;33m:\u001b[0m\u001b[1;33m\u001b[0m\u001b[1;33m\u001b[0m\u001b[0m\n\u001b[0;32m    313\u001b[0m                         raise ValueError(\n\u001b[1;32m--> 314\u001b[1;33m                             \u001b[1;34mf\"Length of passed values is {len(data)}, \"\u001b[0m\u001b[1;33m\u001b[0m\u001b[1;33m\u001b[0m\u001b[0m\n\u001b[0m\u001b[0;32m    315\u001b[0m                             \u001b[1;34mf\"index implies {len(index)}.\"\u001b[0m\u001b[1;33m\u001b[0m\u001b[1;33m\u001b[0m\u001b[0m\n\u001b[0;32m    316\u001b[0m                         )\n",
      "\u001b[1;31mValueError\u001b[0m: Length of passed values is 14, index implies 13."
     ]
    }
   ],
   "source": [
    "checkpoint_metadata = pd.Series(index=['N_episodes', 'gamma', 'actor_hidden_layers', 'critic_hidden_layers', 'batch_norm'\n",
    "                'grad_clipping', 'batch_size', 'learning_rates',\n",
    "                'soft_upd_param', 'update_every', 'buffer_size', 'noise', 'solved',\n",
    "                'checkpoint_folder'],\n",
    "         data = [len(scores_ddpg), 0.99, [256, 128], [256, 128], [False, False],\n",
    "                 (0, 1.), 128, (1e-3, 1e-3), 1e-3, 1, int(1e5), 'g-noise', True, EXP_FOLDER], name=f'experiment:{EXP_NAME}')\n",
    "checkpoint_metadata"
   ]
  },
  {
   "cell_type": "code",
   "execution_count": null,
   "metadata": {},
   "outputs": [],
   "source": [
    "experiment_dt = dt.datetime.strftime(dt.datetime.now(), \"%Y%m%d%H%M%S\")"
   ]
  },
  {
   "cell_type": "code",
   "execution_count": null,
   "metadata": {},
   "outputs": [],
   "source": [
    "checkpoint_metadata.to_json(f'models/experiments/hparams_{experiment_dt}.json')\n",
    "scores_ddpg.to_csv(f'models/experiments/scores_{experiment_dt}.csv')"
   ]
  },
  {
   "cell_type": "code",
   "execution_count": null,
   "metadata": {},
   "outputs": [],
   "source": []
  }
 ],
 "metadata": {
  "kernelspec": {
   "display_name": "drlnd",
   "language": "python",
   "name": "drlnd"
  },
  "language_info": {
   "codemirror_mode": {
    "name": "ipython",
    "version": 3
   },
   "file_extension": ".py",
   "mimetype": "text/x-python",
   "name": "python",
   "nbconvert_exporter": "python",
   "pygments_lexer": "ipython3",
   "version": "3.6.12"
  }
 },
 "nbformat": 4,
 "nbformat_minor": 4
}
