{
 "cells": [
  {
   "cell_type": "markdown",
   "metadata": {},
   "source": [
    "<table>\n",
    "    <tr>\n",
    "        <td>\n",
    "            <img src='./text_images/nvidia.png' width=\"200\" height=\"450\">\n",
    "        </td>\n",
    "        <td> & </td>\n",
    "        <td>\n",
    "            <img src='./text_images/udacity.png' width=\"350\" height=\"450\">\n",
    "        </td>\n",
    "    </tr>\n",
    "</table>"
   ]
  },
  {
   "cell_type": "markdown",
   "metadata": {},
   "source": [
    "# Deep Reinforcement Learning for Optimal Execution of Portfolio Transactions     "
   ]
  },
  {
   "cell_type": "markdown",
   "metadata": {},
   "source": [
    "# Introduction\n",
    "\n",
    "This notebook demonstrates how to use Deep Reinforcement Learning (DRL) for optimizing the execution of large portfolio transactions. We begin with a brief review of reinforcement learning and actor-critic methods.  Then, you will use an actor-critic method to generate optimal trading strategies that maximize profit when liquidating a block of shares. \n",
    "\n",
    "# Actor-Critic Methods\n",
    "\n",
    "In reinforcement learning, an agent makes observations and takes actions within an environment, and in return it receives rewards. Its objective is to learn to act in a way that will maximize its expected long-term rewards. \n",
    "\n",
    "<br>\n",
    "<figure>\n",
    "  <img src = \"./text_images/RL.png\" width = 80% style = \"border: thin silver solid; padding: 10px\">\n",
    "      <figcaption style = \"text-align: center; font-style: italic\">Fig 1. - Reinforcement Learning.</figcaption>\n",
    "</figure> \n",
    "<br>\n",
    "\n",
    "There are several types of RL algorithms, and they can be divided into three groups:\n",
    "\n",
    "- **Critic-Only**: Critic-Only methods, also known as Value-Based methods, first find the optimal value function and then derive an optimal policy from it. \n",
    "\n",
    "\n",
    "- **Actor-Only**: Actor-Only methods, also known as Policy-Based methods, search directly for the optimal policy in policy space. This is typically done by using a parameterized family of policies over which optimization procedures can be used directly. \n",
    "\n",
    "\n",
    "- **Actor-Critic**: Actor-Critic methods combine the advantages of actor-only and critic-only methods. In this method, the critic learns the value function and uses it to determine how the actor's policy parramerters should be changed. In this case, the actor brings the advantage of computing continuous actions without the need for optimization procedures on a value function, while the critic supplies the actor with knowledge of the performance. Actor-critic methods usually have good convergence properties, in contrast to critic-only methods.  The **Deep Deterministic Policy Gradients (DDPG)** algorithm is one example of an actor-critic method.\n",
    "\n",
    "<br>\n",
    "<figure>\n",
    "  <img src = \"./text_images/Actor-Critic.png\" width = 80% style = \"border: thin silver solid; padding: 10px\">\n",
    "      <figcaption style = \"text-align: center; font-style: italic\">Fig 2. - Actor-Critic Reinforcement Learning.</figcaption>\n",
    "</figure> \n",
    "<br>\n",
    "\n",
    "In this notebook, we will use DDPG to determine the optimal execution of portfolio transactions. In other words, we will use the DDPG algorithm to solve the optimal liquidation problem. But before we can apply the DDPG algorithm we first need to formulate the optimal liquidation problem so that in can be solved using reinforcement learning. In the next section we will see how to do this. "
   ]
  },
  {
   "cell_type": "markdown",
   "metadata": {},
   "source": [
    "# Modeling Optimal Execution as a Reinforcement Learning Problem\n",
    "\n",
    "As we learned in the previous lessons, the optimal liquidation problem is a minimization problem, *i.e.* we need to find the trading list that minimizes the implementation shortfall. In order to solve this problem through reinforcement learning, we need to restate the optimal liquidation problem in terms of **States**, **Actions**, and **Rewards**. Let's start by defining our States.\n",
    "\n",
    "### States\n",
    "\n",
    "The optimal liquidation problem entails that we sell all our shares within a given time frame. Therefore, our state vector must contain some information about the time remaining, or what is equivalent, the number trades remaning. We will use the latter and use the following features to define the state vector at time $t_k$:\n",
    "\n",
    "\n",
    "$$\n",
    "[r_{k-5},\\, r_{k-4},\\, r_{k-3},\\, r_{k-2},\\, r_{k-1},\\, r_{k},\\, m_{k},\\, i_{k}]\n",
    "$$\n",
    "\n",
    "where:\n",
    "\n",
    "- $r_{k} = \\log\\left(\\frac{\\tilde{S}_k}{\\tilde{S}_{k-1}}\\right)$ is the log-return at time $t_k$\n",
    "\n",
    "\n",
    "- $m_{k} = \\frac{N_k}{N}$ is the number of trades remaining at time $t_k$ normalized by the total number of trades.\n",
    "\n",
    "\n",
    "- $i_{k} = \\frac{x_k}{X}$ is the remaining number of shares at time $t_k$ normalized by the total number of shares.\n",
    "\n",
    "The log-returns capture information about stock prices before time $t_k$, which can be used to detect possible price trends. The number of trades and shares remaining allow the agent to learn to sell all the shares within a given time frame. It is important to note that in real world trading scenarios, this state vector can hold many more variables. \n",
    "\n",
    "### Actions\n",
    "\n",
    "Since the optimal liquidation problem only requires us to sell stocks, it is reasonable to define the action $a_k$ to be the number of shares to sell at time $t_{k}$. However, if we start with millions of stocks, intepreting the action directly as the number of shares to sell at each time step can lead to convergence problems, because, the agent will need to produce actions with very high values. Instead, we will interpret the action $a_k$ as a **percentage**. In this case, the actions produced by the agent will only need to be between 0 and 1. Using this interpretation, we can determine the number of shares to sell at each time step using:\n",
    "\n",
    "$$\n",
    "n_k = a_k \\times x_k\n",
    "$$\n",
    "\n",
    "where $x_k$ is the number of shares remaining at time $t_k$.\n",
    "\n",
    "### Rewards\n",
    "\n",
    "Defining the rewards is trickier than defining states and actions, since the original problem is a minimization problem. One option is to use the difference between two consecutive utility functions. Remeber the utility function is given by:\n",
    "\n",
    "$$\n",
    "U(x) = E(x) + λ V(x)\n",
    "$$\n",
    "\n",
    "After each time step, we compute the utility using the equations for $E(x)$ and $V(x)$ from the Almgren and Chriss model for the remaining time and inventory while holding parameter λ constant. Denoting the optimal trading trajectory computed at time $t$ as $x^*_t$, we define the reward as: \n",
    "\n",
    "$$\n",
    "R_{t} = {{U_t(x^*_t) - U_{t+1}(x^*_{t+1})}\\over{U_t(x^*_t)}}\n",
    "$$\n",
    "\n",
    "Where we have normalized the difference to train the actor-critic model easier."
   ]
  },
  {
   "cell_type": "markdown",
   "metadata": {},
   "source": [
    "# Simulation Environment\n",
    "\n",
    "In order to train our DDPG algorithm we will use a very simple simulated trading environment. This environment simulates stock prices that follow a discrete arithmetic random walk and that the permanent and temporary market impact functions are linear functions of the rate of trading, just like in the Almgren and Chriss model. This simple trading environment serves as a starting point to create more complex trading environments. You are encouraged to extend this simple trading environment by adding more complexity to simulte real world trading dynamics, such as book orders, network latencies, trading fees, etc... \n",
    "\n",
    "The simulated enviroment is contained in the **syntheticChrissAlmgren.py** module. You are encouraged to take a look it and modify its parameters as you wish. Let's take a look at the default parameters of our simulation environment. We have set the intial stock price to be $S_0 = 50$, and the total number of shares to sell to one million. This gives an initial portfolio value of $\\$50$ Million dollars. We have also set the trader's risk aversion to $\\lambda = 10^{-6}$.\n",
    "\n",
    "The stock price will have 12\\% annual volatility, a [bid-ask spread](https://www.investopedia.com/terms/b/bid-askspread.asp) of 1/8 and an average daily trading volume of 5 million shares. Assuming there are 250 trading days in a year, this gives a daily volatility in stock price of $0.12 / \\sqrt{250} \\approx 0.8\\%$. We will use a liquiditation time of $T = 60$ days and we will set the number of trades $N = 60$. This means that $\\tau=\\frac{T}{N} = 1$ which means we will be making one trade per day. \n",
    "\n",
    "For the temporary cost function we will set the fixed cost of selling to be 1/2 of the bid-ask spread, $\\epsilon = 1/16$. we will set $\\eta$ such that for each one percent of the daily volume we trade, we incur a price impact equal to the bid-ask\n",
    "spread. For example, trading at a rate of $5\\%$ of the daily trading volume incurs a one-time cost on each trade of 5/8. Under this assumption we have $\\eta =(1/8)/(0.01 \\times 5 \\times 10^6) = 2.5 \\times 10^{-6}$.\n",
    "\n",
    "For the permanent costs, a common rule of thumb is that price effects become significant when we sell $10\\%$ of the daily volume. If we suppose that significant means that the price depression is one bid-ask spread, and that the effect is linear for smaller and larger trading rates, then we have $\\gamma = (1/8)/(0.1 \\times 5 \\times 10^6) = 2.5 \\times 10^{-7}$. \n",
    "\n",
    "The tables below summarize the default parameters of the simulation environment"
   ]
  },
  {
   "cell_type": "code",
   "execution_count": 1,
   "metadata": {},
   "outputs": [],
   "source": [
    "%load_ext autoreload\n",
    "%autoreload 2"
   ]
  },
  {
   "cell_type": "code",
   "execution_count": 2,
   "metadata": {},
   "outputs": [],
   "source": [
    "import os\n",
    "from os import path\n",
    "import sys\n",
    "\n",
    "\n",
    "repo_path= path.dirname(path.dirname(path.abspath(\"__file__\")))\n",
    "sys.path.append(repo_path)"
   ]
  },
  {
   "cell_type": "code",
   "execution_count": 3,
   "metadata": {},
   "outputs": [],
   "source": [
    "import pandas as pd\n",
    "import matplotlib.pyplot as plt\n",
    "import numpy as np\n",
    "import torch\n",
    "\n",
    "from collections import deque\n",
    "\n",
    "from src.ac_agent import AgentDDPG\n",
    "from ddpg_agent import Agent\n",
    "import syntheticChrissAlmgren as sca\n",
    "from ddpg_agent import OUNoise"
   ]
  },
  {
   "cell_type": "code",
   "execution_count": 4,
   "metadata": {},
   "outputs": [
    {
     "data": {
      "text/plain": [
       "'1.1.3'"
      ]
     },
     "execution_count": 4,
     "metadata": {},
     "output_type": "execute_result"
    }
   ],
   "source": [
    "pd.__version__"
   ]
  },
  {
   "cell_type": "code",
   "execution_count": 5,
   "metadata": {},
   "outputs": [
    {
     "name": "stdout",
     "output_type": "stream",
     "text": [
      "\n",
      "INSTALLED VERSIONS\n",
      "------------------\n",
      "Python: 3.6.12.final.0\n",
      "\n",
      "statsmodels\n",
      "===========\n",
      "\n",
      "Installed: 0.12.0 (C:\\ProgramData\\Anaconda3\\envs\\drlnd\\lib\\site-packages\\statsmodels)\n",
      "\n",
      "Required Dependencies\n",
      "=====================\n",
      "\n",
      "cython: Not installed\n",
      "numpy: 1.19.2 (C:\\ProgramData\\Anaconda3\\envs\\drlnd\\lib\\site-packages\\numpy)\n",
      "scipy: 1.5.2 (C:\\ProgramData\\Anaconda3\\envs\\drlnd\\lib\\site-packages\\scipy)\n",
      "pandas: 1.1.3 (C:\\ProgramData\\Anaconda3\\envs\\drlnd\\lib\\site-packages\\pandas)\n",
      "    dateutil: 2.8.1 (C:\\ProgramData\\Anaconda3\\envs\\drlnd\\lib\\site-packages\\dateutil)\n",
      "patsy: 0.5.1 (C:\\ProgramData\\Anaconda3\\envs\\drlnd\\lib\\site-packages\\patsy)\n",
      "\n",
      "Optional Dependencies\n",
      "=====================\n",
      "\n",
      "matplotlib: 3.3.3 (C:\\ProgramData\\Anaconda3\\envs\\drlnd\\lib\\site-packages\\matplotlib)\n",
      "    backend: module://ipykernel.pylab.backend_inline \n",
      "cvxopt: Not installed\n",
      "joblib: Not installed\n",
      "\n",
      "Developer Tools\n",
      "================\n",
      "\n",
      "IPython: 7.16.1 (C:\\ProgramData\\Anaconda3\\envs\\drlnd\\lib\\site-packages\\IPython)\n",
      "    jinja2: 2.11.2 (C:\\ProgramData\\Anaconda3\\envs\\drlnd\\lib\\site-packages\\jinja2)\n",
      "sphinx: Not installed\n",
      "    pygments: 2.7.3 (C:\\ProgramData\\Anaconda3\\envs\\drlnd\\lib\\site-packages\\pygments)\n",
      "pytest: 6.2.1 (C:\\ProgramData\\Anaconda3\\envs\\drlnd\\lib\\site-packages\\pytest)\n",
      "virtualenv: Not installed\n",
      "\n",
      "\n"
     ]
    }
   ],
   "source": [
    "import statsmodels.api as sm\n",
    "sm.show_versions()"
   ]
  },
  {
   "cell_type": "code",
   "execution_count": null,
   "metadata": {},
   "outputs": [],
   "source": []
  },
  {
   "cell_type": "code",
   "execution_count": 6,
   "metadata": {},
   "outputs": [],
   "source": [
    "import utils\n",
    "\n",
    "# Get the default financial and AC Model parameters\n",
    "financial_params, ac_params = utils.get_env_param()"
   ]
  },
  {
   "cell_type": "code",
   "execution_count": 7,
   "metadata": {},
   "outputs": [
    {
     "data": {
      "text/html": [
       "<table class=\"simpletable\">\n",
       "<caption>Financial Parameters</caption>\n",
       "<tr>\n",
       "  <th>Annual Volatility:</th>  <td>12%</td> <th>  Bid-Ask Spread:    </th>     <td>0.125</td>  \n",
       "</tr>\n",
       "<tr>\n",
       "  <th>Daily Volatility:</th>  <td>0.8%</td> <th>  Daily Trading Volume:</th> <td>5,000,000</td>\n",
       "</tr>\n",
       "</table>"
      ],
      "text/plain": [
       "<class 'statsmodels.iolib.table.SimpleTable'>"
      ]
     },
     "execution_count": 7,
     "metadata": {},
     "output_type": "execute_result"
    }
   ],
   "source": [
    "financial_params"
   ]
  },
  {
   "cell_type": "code",
   "execution_count": 8,
   "metadata": {},
   "outputs": [
    {
     "data": {
      "text/html": [
       "<table class=\"simpletable\">\n",
       "<caption>Almgren and Chriss Model Parameters</caption>\n",
       "<tr>\n",
       "  <th>Total Number of Shares to Sell:</th>                  <td>1,000,000</td> <th>  Fixed Cost of Selling per Share:</th> <td>$0.062</td> \n",
       "</tr>\n",
       "<tr>\n",
       "  <th>Starting Price per Share:</th>                         <td>$50.00</td>   <th>  Trader's Risk Aversion:</th>           <td>1e-06</td> \n",
       "</tr>\n",
       "<tr>\n",
       "  <th>Price Impact for Each 1% of Daily Volume Traded:</th> <td>$2.5e-06</td>  <th>  Permanent Impact Constant:</th>       <td>2.5e-07</td>\n",
       "</tr>\n",
       "<tr>\n",
       "  <th>Number of Days to Sell All the Shares:</th>              <td>60</td>     <th>  Single Step Variance:</th>             <td>0.144</td> \n",
       "</tr>\n",
       "<tr>\n",
       "  <th>Number of Trades:</th>                                   <td>60</td>     <th>  Time Interval between trades:</th>      <td>1.0</td>  \n",
       "</tr>\n",
       "</table>"
      ],
      "text/plain": [
       "<class 'statsmodels.iolib.table.SimpleTable'>"
      ]
     },
     "execution_count": 8,
     "metadata": {},
     "output_type": "execute_result"
    }
   ],
   "source": [
    "ac_params"
   ]
  },
  {
   "cell_type": "markdown",
   "metadata": {},
   "source": [
    "# Reinforcement Learning\n",
    "\n",
    "In the code below we use DDPG to find a policy that can generate optimal trading trajectories that minimize implementation shortfall, and can be benchmarked against the Almgren and Chriss model. We will implement a typical reinforcement learning workflow to train the actor and critic using the simulation environment. We feed the states observed from our simulator to an agent. The Agent first predicts an action using the actor model and performs the action in the environment. Then, environment returns the reward and new state. This process continues for the given number of episodes. To get accurate results, you should run the code at least 10,000 episodes."
   ]
  },
  {
   "cell_type": "markdown",
   "metadata": {},
   "source": [
    "# Todo\n",
    "\n",
    "The above code should provide you with a starting framework for incorporating more complex dynamics into our model. Here are a few things you can try out:\n",
    "\n",
    "- Incorporate your own reward function in the simulation environmet to see if you can achieve a expected shortfall that is better (lower) than that produced by the Almgren and Chriss model.\n",
    "\n",
    "\n",
    "- Experiment rewarding the agent at every step and only giving a reward at the end.\n",
    "\n",
    "\n",
    "- Use more realistic price dynamics, such as geometric brownian motion (GBM). The equations used to model GBM can be found in section 3b of this [paper](https://ro.uow.edu.au/cgi/viewcontent.cgi?referer=https://www.google.com/&httpsredir=1&article=1705&context=aabfj)\n",
    "\n",
    "\n",
    "- Try different functions for the action. You can change the values of the actions produced by the agent by using different functions. You can choose your function depending on the interpretation you give to the action. For example, you could set the action to be a function of the trading rate.\n",
    "\n",
    "\n",
    "- Add more complex dynamics to the environment. Try incorporate trading fees, for example. This can be done by adding and extra term to the fixed cost of selling, $\\epsilon$."
   ]
  },
  {
   "cell_type": "code",
   "execution_count": 9,
   "metadata": {},
   "outputs": [],
   "source": [
    "noise_samples = []\n",
    "noise = OUNoise(size=1, seed=123)\n",
    "\n",
    "for i in range(1000):\n",
    "    noise_samples.append(noise.sample())"
   ]
  },
  {
   "cell_type": "code",
   "execution_count": 10,
   "metadata": {},
   "outputs": [
    {
     "data": {
      "image/png": "[encoded data removed]",
      "text/plain": [
       "<Figure size 432x288 with 1 Axes>"
      ]
     },
     "metadata": {
      "needs_background": "light"
     },
     "output_type": "display_data"
    }
   ],
   "source": [
    "plt.plot(noise_samples)\n",
    "plt.show()"
   ]
  },
  {
   "cell_type": "code",
   "execution_count": 11,
   "metadata": {},
   "outputs": [],
   "source": [
    "def get_noise_schedulling(n_episodes, decay, noise):\n",
    "    noise_samples = dict()\n",
    "    np.ones(n_episodes)\n",
    "    for i in range(n_episodes):\n",
    "        noise_raw = noise.sample()[0]\n",
    "        decay_coef = decay**i\n",
    "        noise_dec = noise_raw * decay_coef\n",
    "        \n",
    "        noise_samples[i]= [decay_coef, noise_raw, noise_dec]\n",
    "        \n",
    "    return pd.DataFrame.from_dict(noise_samples, orient='index', columns=['decay', 'noise_raw', 'noise_dec'])"
   ]
  },
  {
   "cell_type": "code",
   "execution_count": 12,
   "metadata": {},
   "outputs": [],
   "source": [
    "noise_schedulling = get_noise_schedulling(5000, decay=0.9998, noise=noise)"
   ]
  },
  {
   "cell_type": "code",
   "execution_count": 13,
   "metadata": {},
   "outputs": [
    {
     "data": {
      "image/png": "[encoded data removed]",
      "text/plain": [
       "<Figure size 432x288 with 1 Axes>"
      ]
     },
     "metadata": {
      "needs_background": "light"
     },
     "output_type": "display_data"
    }
   ],
   "source": [
    "noise_schedulling.plot()\n",
    "plt.show()"
   ]
  },
  {
   "cell_type": "code",
   "execution_count": 14,
   "metadata": {},
   "outputs": [],
   "source": [
    "# Set the liquidation time\n",
    "lqt = 60\n",
    "\n",
    "# Set the number of trades\n",
    "n_trades = 60\n",
    "\n",
    "# Set trader's risk aversion\n",
    "tr = 1e-6"
   ]
  },
  {
   "cell_type": "code",
   "execution_count": 15,
   "metadata": {},
   "outputs": [],
   "source": [
    "def action_scaler_01(action):\n",
    "    \"\"\"Clips action values between 0 and 1\"\"\"\n",
    "    action = (action + 1.0) / 2.0\n",
    "    \n",
    "    return np.clip(action, 0, 1)"
   ]
  },
  {
   "cell_type": "code",
   "execution_count": 23,
   "metadata": {},
   "outputs": [],
   "source": [
    "def train(env, agent, n_episodes, lqt, n_trades, tr, *args, **kwargs):\n",
    "    \"\"\"\n",
    "    lqt: liquidation time\n",
    "    n_trades: number of trades\n",
    "    tr: risk aversion\n",
    "    \"\"\"\n",
    "    \n",
    "    shortfall_hist = np.array([])\n",
    "    shortfall_deque = deque(maxlen=100)\n",
    "    action_scaler_fn = kwargs.get('action_scaler_fn', lambda x: x)\n",
    "    noise_decay = kwargs.get('noise_decay', None)\n",
    "    model_save_path = kwargs.get('model_save_path', None)\n",
    "    noise_weight = 1.\n",
    "    \n",
    "    for i_episode in range(1, n_episodes+1): \n",
    "        # Reset the enviroment\n",
    "        cur_state = env.reset(seed = i_episode, liquid_time = lqt, num_trades = n_trades, lamb = tr)\n",
    "        \n",
    "        # set the environment to make transactions\n",
    "        env.start_transactions()\n",
    "        \n",
    "        for i in range(n_trades + 1):\n",
    "\n",
    "            # Predict the best action for the current state. \n",
    "            action = agent.act(cur_state, add_noise = True, noise_weight = noise_weight)\n",
    "            action = action_scaler_fn(action)\n",
    "            \n",
    "            # Action is performed and new state, reward, info are received. \n",
    "            new_state, reward, done, info = env.step(action)\n",
    "\n",
    "            # current state, action, reward, new state are stored in the experience replay\n",
    "            agent.step(cur_state, action, reward, new_state, done)\n",
    "\n",
    "            # roll over new state\n",
    "            cur_state = new_state\n",
    "            \n",
    "            if info.done:\n",
    "                shortfall_hist = np.append(shortfall_hist, info.implementation_shortfall)\n",
    "                shortfall_deque.append(info.implementation_shortfall)\n",
    "                break\n",
    "                \n",
    "        # schedule exploration-explotation\n",
    "        if noise_decay is not None:\n",
    "            noise_weight = max(noise_decay**i_episode, 0.1)\n",
    "        \n",
    "        if (i_episode) % 100 == 0: # print average shortfall over last 100 episodes\n",
    "            print('\\rEpisode [{}/{}]\\tAverage Shortfall: ${:,.2f}'.format(i_episode, n_episodes, np.mean(shortfall_deque)))  \n",
    "            \n",
    "        if hasattr(agent, \"save_network\") and model_save_path is not None:\n",
    "            agent.save_network(model_save_path)\n",
    "        \n",
    "    return pd.Series(shortfall_hist)"
   ]
  },
  {
   "cell_type": "code",
   "execution_count": 24,
   "metadata": {},
   "outputs": [],
   "source": [
    "# Create simulation environment\n",
    "env = sca.MarketEnvironment()"
   ]
  },
  {
   "cell_type": "markdown",
   "metadata": {},
   "source": [
    "# Current Agent"
   ]
  },
  {
   "cell_type": "code",
   "execution_count": 25,
   "metadata": {},
   "outputs": [
    {
     "name": "stdout",
     "output_type": "stream",
     "text": [
      "Episode [100/10000]\tAverage Shortfall: $2,344,479.21\n",
      "Episode [200/10000]\tAverage Shortfall: $2,562,500.00\n",
      "Episode [300/10000]\tAverage Shortfall: $2,562,500.00\n",
      "Episode [400/10000]\tAverage Shortfall: $2,562,500.00\n",
      "Episode [500/10000]\tAverage Shortfall: $2,562,500.00\n",
      "Episode [600/10000]\tAverage Shortfall: $2,562,500.00\n",
      "Episode [700/10000]\tAverage Shortfall: $2,562,500.00\n",
      "Episode [800/10000]\tAverage Shortfall: $2,562,500.00\n",
      "Episode [900/10000]\tAverage Shortfall: $2,562,500.00\n",
      "Episode [1000/10000]\tAverage Shortfall: $2,562,500.00\n",
      "Episode [1100/10000]\tAverage Shortfall: $2,562,500.00\n",
      "Episode [1200/10000]\tAverage Shortfall: $2,562,500.00\n",
      "Episode [1300/10000]\tAverage Shortfall: $2,562,500.00\n",
      "Episode [1400/10000]\tAverage Shortfall: $2,562,500.00\n",
      "Episode [1500/10000]\tAverage Shortfall: $2,562,500.00\n",
      "Episode [1600/10000]\tAverage Shortfall: $2,562,500.00\n",
      "Episode [1700/10000]\tAverage Shortfall: $2,562,500.00\n",
      "Episode [1800/10000]\tAverage Shortfall: $2,562,500.00\n",
      "Episode [1900/10000]\tAverage Shortfall: $2,562,500.00\n",
      "Episode [2000/10000]\tAverage Shortfall: $2,562,500.00\n",
      "Episode [2100/10000]\tAverage Shortfall: $2,562,500.00\n",
      "Episode [2200/10000]\tAverage Shortfall: $2,562,500.00\n",
      "Episode [2300/10000]\tAverage Shortfall: $2,451,759.76\n",
      "Episode [2400/10000]\tAverage Shortfall: $1,533,545.45\n",
      "Episode [2500/10000]\tAverage Shortfall: $1,386,742.27\n",
      "Episode [2600/10000]\tAverage Shortfall: $1,373,445.48\n",
      "Episode [2700/10000]\tAverage Shortfall: $1,377,947.78\n",
      "Episode [2800/10000]\tAverage Shortfall: $1,386,464.83\n",
      "Episode [2900/10000]\tAverage Shortfall: $1,388,310.05\n",
      "Episode [3000/10000]\tAverage Shortfall: $1,372,463.63\n",
      "Episode [3100/10000]\tAverage Shortfall: $1,376,539.10\n",
      "Episode [3200/10000]\tAverage Shortfall: $1,358,059.38\n",
      "Episode [3300/10000]\tAverage Shortfall: $1,387,428.14\n",
      "Episode [3400/10000]\tAverage Shortfall: $1,406,038.66\n",
      "Episode [3500/10000]\tAverage Shortfall: $1,368,051.06\n",
      "Episode [3600/10000]\tAverage Shortfall: $1,371,080.77\n",
      "Episode [3700/10000]\tAverage Shortfall: $1,369,329.52\n",
      "Episode [3800/10000]\tAverage Shortfall: $1,339,242.10\n",
      "Episode [3900/10000]\tAverage Shortfall: $1,374,667.85\n",
      "Episode [4000/10000]\tAverage Shortfall: $1,345,410.18\n",
      "Episode [4100/10000]\tAverage Shortfall: $1,401,895.90\n",
      "Episode [4200/10000]\tAverage Shortfall: $1,378,784.98\n",
      "Episode [4300/10000]\tAverage Shortfall: $1,356,986.70\n",
      "Episode [4400/10000]\tAverage Shortfall: $1,386,085.85\n",
      "Episode [4500/10000]\tAverage Shortfall: $1,378,969.23\n",
      "Episode [4600/10000]\tAverage Shortfall: $1,398,815.30\n",
      "Episode [4700/10000]\tAverage Shortfall: $1,381,468.89\n",
      "Episode [4800/10000]\tAverage Shortfall: $1,402,058.88\n",
      "Episode [4900/10000]\tAverage Shortfall: $1,382,693.95\n",
      "Episode [5000/10000]\tAverage Shortfall: $1,356,331.04\n",
      "Episode [5100/10000]\tAverage Shortfall: $1,345,411.43\n",
      "Episode [5200/10000]\tAverage Shortfall: $1,372,266.33\n",
      "Episode [5300/10000]\tAverage Shortfall: $1,371,820.64\n",
      "Episode [5400/10000]\tAverage Shortfall: $1,369,122.22\n",
      "Episode [5500/10000]\tAverage Shortfall: $1,375,518.76\n",
      "Episode [5600/10000]\tAverage Shortfall: $1,372,996.91\n",
      "Episode [5700/10000]\tAverage Shortfall: $1,377,446.63\n",
      "Episode [5800/10000]\tAverage Shortfall: $1,399,008.20\n",
      "Episode [5900/10000]\tAverage Shortfall: $1,381,472.20\n",
      "Episode [6000/10000]\tAverage Shortfall: $1,372,953.48\n",
      "Episode [6100/10000]\tAverage Shortfall: $1,374,013.40\n",
      "Episode [6200/10000]\tAverage Shortfall: $1,380,735.17\n",
      "Episode [6300/10000]\tAverage Shortfall: $1,347,135.11\n",
      "Episode [6400/10000]\tAverage Shortfall: $1,371,254.13\n",
      "Episode [6500/10000]\tAverage Shortfall: $1,394,720.20\n",
      "Episode [6600/10000]\tAverage Shortfall: $1,356,429.06\n",
      "Episode [6700/10000]\tAverage Shortfall: $1,395,141.62\n",
      "Episode [6800/10000]\tAverage Shortfall: $1,381,061.57\n",
      "Episode [6900/10000]\tAverage Shortfall: $1,383,934.97\n",
      "Episode [7000/10000]\tAverage Shortfall: $1,374,180.05\n",
      "Episode [7100/10000]\tAverage Shortfall: $1,381,795.49\n",
      "Episode [7200/10000]\tAverage Shortfall: $1,370,240.16\n",
      "Episode [7300/10000]\tAverage Shortfall: $1,381,850.03\n",
      "Episode [7400/10000]\tAverage Shortfall: $1,389,598.81\n",
      "Episode [7500/10000]\tAverage Shortfall: $1,389,580.44\n",
      "Episode [7600/10000]\tAverage Shortfall: $1,396,810.58\n",
      "Episode [7700/10000]\tAverage Shortfall: $1,374,348.07\n",
      "Episode [7800/10000]\tAverage Shortfall: $1,363,152.96\n",
      "Episode [7900/10000]\tAverage Shortfall: $1,405,665.67\n",
      "Episode [8000/10000]\tAverage Shortfall: $1,414,696.27\n",
      "Episode [8100/10000]\tAverage Shortfall: $1,364,060.26\n",
      "Episode [8200/10000]\tAverage Shortfall: $1,419,822.47\n",
      "Episode [8300/10000]\tAverage Shortfall: $1,388,956.56\n",
      "Episode [8400/10000]\tAverage Shortfall: $1,376,765.81\n",
      "Episode [8500/10000]\tAverage Shortfall: $1,384,504.26\n",
      "Episode [8600/10000]\tAverage Shortfall: $1,390,201.35\n",
      "Episode [8700/10000]\tAverage Shortfall: $1,395,347.03\n",
      "Episode [8800/10000]\tAverage Shortfall: $1,394,227.04\n",
      "Episode [8900/10000]\tAverage Shortfall: $1,397,109.11\n",
      "Episode [9000/10000]\tAverage Shortfall: $1,371,887.56\n",
      "Episode [9100/10000]\tAverage Shortfall: $1,361,587.06\n",
      "Episode [9200/10000]\tAverage Shortfall: $1,387,370.23\n",
      "Episode [9300/10000]\tAverage Shortfall: $1,380,565.14\n",
      "Episode [9400/10000]\tAverage Shortfall: $1,371,969.68\n",
      "Episode [9500/10000]\tAverage Shortfall: $1,395,124.99\n",
      "Episode [9600/10000]\tAverage Shortfall: $1,401,914.51\n",
      "Episode [9700/10000]\tAverage Shortfall: $1,380,055.24\n",
      "Episode [9800/10000]\tAverage Shortfall: $1,384,602.40\n",
      "Episode [9900/10000]\tAverage Shortfall: $1,382,946.14\n",
      "Episode [10000/10000]\tAverage Shortfall: $1,347,939.26\n"
     ]
    }
   ],
   "source": [
    "# run train loop on vanilla agent\n",
    "agent = Agent(state_size=env.observation_space_dimension(), action_size=env.action_space_dimension(), random_seed=0)\n",
    "\n",
    "shortfall_hist0 = train(env, agent, n_episodes=10000, lqt= lqt, n_trades= n_trades, tr= tr,\n",
    "        model_save_path=os.path.join('models', 'ddpg0'), action_scaler_fn=action_scaler_01, \n",
    "                       )"
   ]
  },
  {
   "cell_type": "code",
   "execution_count": 26,
   "metadata": {},
   "outputs": [],
   "source": [
    "filename = os.path.join('models', 'ddpg0')\n",
    "\n",
    "actor_filename = os.path.join(filename, 'actor.pth')\n",
    "critic_filename = os.path.join(filename, 'critic.pth')\n",
    "\n",
    "torch.save(agent.actor_local.state_dict(), actor_filename)\n",
    "torch.save(agent.critic_local.state_dict(), critic_filename)\n"
   ]
  },
  {
   "cell_type": "code",
   "execution_count": 27,
   "metadata": {},
   "outputs": [
    {
     "data": {
      "image/png": "[encoded data removed]",
      "text/plain": [
       "<Figure size 432x288 with 1 Axes>"
      ]
     },
     "metadata": {
      "needs_background": "light"
     },
     "output_type": "display_data"
    }
   ],
   "source": [
    "plt.plot(shortfall_hist0)\n",
    "plt.show()"
   ]
  },
  {
   "cell_type": "markdown",
   "metadata": {},
   "source": [
    "# Custom Agent"
   ]
  },
  {
   "cell_type": "markdown",
   "metadata": {},
   "source": [
    "## Testing"
   ]
  },
  {
   "cell_type": "code",
   "execution_count": 28,
   "metadata": {},
   "outputs": [],
   "source": [
    "# test custom agent\n",
    "\n",
    "ddpg_agent = AgentDDPG(state_size=env.observation_space_dimension(), action_size=env.action_space_dimension(), gamma=0.99,\n",
    "                actor_hidden_layers=(48, 24), critic_hidden_layers=(24, 48),\n",
    "                batch_size=128, learning_rate=(1e-4, 1e-3), weight_decay=(0,0), soft_upd_param=1e-3, update_every=1, buffer_size=int(1e4), seed=123)"
   ]
  },
  {
   "cell_type": "code",
   "execution_count": 29,
   "metadata": {},
   "outputs": [
    {
     "data": {
      "text/plain": [
       "DDPGActor(\n",
       "  (fc1): Linear(in_features=8, out_features=48, bias=True)\n",
       "  (fc2): Linear(in_features=48, out_features=24, bias=True)\n",
       "  (out): Linear(in_features=24, out_features=1, bias=True)\n",
       ")"
      ]
     },
     "execution_count": 29,
     "metadata": {},
     "output_type": "execute_result"
    }
   ],
   "source": [
    "actor_nn = ddpg_agent.actor_local\n",
    "actor_nn"
   ]
  },
  {
   "cell_type": "code",
   "execution_count": 30,
   "metadata": {},
   "outputs": [],
   "source": [
    "w_actor_local_init = [w for w in actor_nn.parameters()]\n",
    "w_actor_targets_init = [w for w in ddpg_agent.actor_target.parameters()]"
   ]
  },
  {
   "cell_type": "code",
   "execution_count": 31,
   "metadata": {},
   "outputs": [
    {
     "data": {
      "text/plain": [
       "DDPGCritic(\n",
       "  (fcs1): Linear(in_features=8, out_features=24, bias=True)\n",
       "  (fc2): Linear(in_features=25, out_features=48, bias=True)\n",
       "  (out): Linear(in_features=48, out_features=1, bias=True)\n",
       ")"
      ]
     },
     "execution_count": 31,
     "metadata": {},
     "output_type": "execute_result"
    }
   ],
   "source": [
    "critic_nn = ddpg_agent.critic_local\n",
    "critic_nn"
   ]
  },
  {
   "cell_type": "code",
   "execution_count": 32,
   "metadata": {},
   "outputs": [],
   "source": [
    "w_critic_local_init = [w for w in critic_nn.parameters()]\n",
    "w_critic_targets_init = [w for w in ddpg_agent.critic_target.parameters()]"
   ]
  },
  {
   "cell_type": "code",
   "execution_count": 33,
   "metadata": {},
   "outputs": [],
   "source": [
    "cur_state = env.reset(seed = 123, liquid_time = lqt, num_trades = n_trades, lamb = tr)\n",
    "\n",
    "# set the environment to make transactions\n",
    "env.start_transactions()"
   ]
  },
  {
   "cell_type": "code",
   "execution_count": 34,
   "metadata": {},
   "outputs": [
    {
     "data": {
      "text/plain": [
       "array([0., 0., 0., 0., 0., 0., 1., 1.])"
      ]
     },
     "execution_count": 34,
     "metadata": {},
     "output_type": "execute_result"
    }
   ],
   "source": [
    "cur_state"
   ]
  },
  {
   "cell_type": "code",
   "execution_count": 35,
   "metadata": {},
   "outputs": [],
   "source": [
    "action = ddpg_agent.act(cur_state, noise_weigth = 1.)\n",
    "            \n",
    "# scale action\n",
    "action = (action + 1.0) / 2.0\n",
    "action = np.clip(action, 0, 1)\n",
    "\n",
    "# Action is performed and new state, reward, info are received. \n",
    "new_state, reward, done, info = env.step(action)"
   ]
  },
  {
   "cell_type": "code",
   "execution_count": 36,
   "metadata": {},
   "outputs": [
    {
     "data": {
      "text/plain": [
       "array([0.50153697], dtype=float32)"
      ]
     },
     "execution_count": 36,
     "metadata": {},
     "output_type": "execute_result"
    }
   ],
   "source": [
    "action"
   ]
  },
  {
   "cell_type": "code",
   "execution_count": 37,
   "metadata": {},
   "outputs": [
    {
     "data": {
      "text/plain": [
       "(array([0.        , 0.        , 0.        , 0.        , 0.        ,\n",
       "        0.        , 0.98333333, 0.498463  ]),\n",
       " array([0.72936302]),\n",
       " False)"
      ]
     },
     "execution_count": 37,
     "metadata": {},
     "output_type": "execute_result"
    }
   ],
   "source": [
    "new_state, reward, done"
   ]
  },
  {
   "cell_type": "code",
   "execution_count": 38,
   "metadata": {},
   "outputs": [
    {
     "data": {
      "text/plain": [
       "tensor([[ 0.,  0.,  0.,  0.,  0.,  0.,  1.,  1.]])"
      ]
     },
     "execution_count": 38,
     "metadata": {},
     "output_type": "execute_result"
    }
   ],
   "source": [
    "input_state = torch.tensor(cur_state, dtype=torch.float).view(1,-1)\n",
    "input_state"
   ]
  },
  {
   "cell_type": "code",
   "execution_count": 39,
   "metadata": {},
   "outputs": [
    {
     "data": {
      "text/plain": [
       "tensor([[ 0.,  0.,  0.,  0.,  0.,  0.,  1.,  1.]])"
      ]
     },
     "execution_count": 39,
     "metadata": {},
     "output_type": "execute_result"
    }
   ],
   "source": [
    "input_state = torch.tensor(cur_state, dtype=torch.float).view(1,-1)\n",
    "input_state"
   ]
  },
  {
   "cell_type": "code",
   "execution_count": 40,
   "metadata": {},
   "outputs": [
    {
     "data": {
      "text/plain": [
       "tensor(1.00000e-03 *\n",
       "       [[ 3.0740]])"
      ]
     },
     "execution_count": 40,
     "metadata": {},
     "output_type": "execute_result"
    }
   ],
   "source": [
    "input_q = ddpg_agent.actor_local.forward(input_state)\n",
    "input_q"
   ]
  },
  {
   "cell_type": "code",
   "execution_count": 41,
   "metadata": {},
   "outputs": [
    {
     "data": {
      "text/plain": [
       "tensor(1.00000e-03 *\n",
       "       [[ 3.0740]])"
      ]
     },
     "execution_count": 41,
     "metadata": {},
     "output_type": "execute_result"
    }
   ],
   "source": [
    "ddpg_agent.actor_target.forward(input_state)"
   ]
  },
  {
   "cell_type": "code",
   "execution_count": 42,
   "metadata": {},
   "outputs": [
    {
     "data": {
      "text/plain": [
       "tensor([[-0.1244]])"
      ]
     },
     "execution_count": 42,
     "metadata": {},
     "output_type": "execute_result"
    }
   ],
   "source": [
    "ddpg_agent.critic_local.forward(input_state, input_q)"
   ]
  },
  {
   "cell_type": "code",
   "execution_count": 43,
   "metadata": {},
   "outputs": [
    {
     "data": {
      "text/plain": [
       "tensor([[-0.1244]])"
      ]
     },
     "execution_count": 43,
     "metadata": {},
     "output_type": "execute_result"
    }
   ],
   "source": [
    "ddpg_agent.critic_target.forward(input_state, input_q)"
   ]
  },
  {
   "cell_type": "markdown",
   "metadata": {},
   "source": [
    "## Train"
   ]
  },
  {
   "cell_type": "code",
   "execution_count": 44,
   "metadata": {},
   "outputs": [
    {
     "name": "stdout",
     "output_type": "stream",
     "text": [
      "Episode [100/10000]\tAverage Shortfall: $2,304,620.21\n",
      "Episode [200/10000]\tAverage Shortfall: $2,562,500.00\n",
      "Episode [300/10000]\tAverage Shortfall: $2,562,500.00\n",
      "Episode [400/10000]\tAverage Shortfall: $2,562,500.00\n",
      "Episode [500/10000]\tAverage Shortfall: $2,562,500.00\n",
      "Episode [600/10000]\tAverage Shortfall: $2,562,500.00\n",
      "Episode [700/10000]\tAverage Shortfall: $2,562,500.00\n",
      "Episode [800/10000]\tAverage Shortfall: $2,562,500.00\n",
      "Episode [900/10000]\tAverage Shortfall: $2,562,500.00\n",
      "Episode [1000/10000]\tAverage Shortfall: $2,562,500.00\n",
      "Episode [1100/10000]\tAverage Shortfall: $2,562,500.00\n",
      "Episode [1200/10000]\tAverage Shortfall: $2,562,500.00\n",
      "Episode [1300/10000]\tAverage Shortfall: $2,562,500.00\n",
      "Episode [1400/10000]\tAverage Shortfall: $2,562,500.00\n",
      "Episode [1500/10000]\tAverage Shortfall: $2,562,500.00\n",
      "Episode [1600/10000]\tAverage Shortfall: $2,562,500.00\n",
      "Episode [1700/10000]\tAverage Shortfall: $2,562,500.00\n",
      "Episode [1800/10000]\tAverage Shortfall: $2,562,500.00\n",
      "Episode [1900/10000]\tAverage Shortfall: $2,562,500.00\n",
      "Episode [2000/10000]\tAverage Shortfall: $2,562,500.00\n",
      "Episode [2100/10000]\tAverage Shortfall: $2,562,500.00\n",
      "Episode [2200/10000]\tAverage Shortfall: $2,562,500.00\n",
      "Episode [2300/10000]\tAverage Shortfall: $2,562,500.00\n",
      "Episode [2400/10000]\tAverage Shortfall: $1,570,706.10\n",
      "Episode [2500/10000]\tAverage Shortfall: $688,421.23\n",
      "Episode [2600/10000]\tAverage Shortfall: $698,967.87\n",
      "Episode [2700/10000]\tAverage Shortfall: $668,171.93\n",
      "Episode [2800/10000]\tAverage Shortfall: $648,668.39\n",
      "Episode [2900/10000]\tAverage Shortfall: $663,908.46\n",
      "Episode [3000/10000]\tAverage Shortfall: $644,462.59\n",
      "Episode [3100/10000]\tAverage Shortfall: $637,857.78\n",
      "Episode [3200/10000]\tAverage Shortfall: $654,134.99\n",
      "Episode [3300/10000]\tAverage Shortfall: $695,969.08\n",
      "Episode [3400/10000]\tAverage Shortfall: $724,121.69\n",
      "Episode [3500/10000]\tAverage Shortfall: $620,969.48\n",
      "Episode [3600/10000]\tAverage Shortfall: $656,549.49\n",
      "Episode [3700/10000]\tAverage Shortfall: $644,425.19\n",
      "Episode [3800/10000]\tAverage Shortfall: $572,068.49\n",
      "Episode [3900/10000]\tAverage Shortfall: $631,462.34\n",
      "Episode [4000/10000]\tAverage Shortfall: $609,328.18\n",
      "Episode [4100/10000]\tAverage Shortfall: $723,135.63\n",
      "Episode [4200/10000]\tAverage Shortfall: $684,880.70\n",
      "Episode [4300/10000]\tAverage Shortfall: $646,382.86\n",
      "Episode [4400/10000]\tAverage Shortfall: $677,504.57\n",
      "Episode [4500/10000]\tAverage Shortfall: $685,434.26\n",
      "Episode [4600/10000]\tAverage Shortfall: $677,324.89\n",
      "Episode [4700/10000]\tAverage Shortfall: $668,918.19\n",
      "Episode [4800/10000]\tAverage Shortfall: $697,947.78\n",
      "Episode [4900/10000]\tAverage Shortfall: $695,249.91\n",
      "Episode [5000/10000]\tAverage Shortfall: $553,910.98\n",
      "Episode [5100/10000]\tAverage Shortfall: $621,117.96\n",
      "Episode [5200/10000]\tAverage Shortfall: $655,699.39\n",
      "Episode [5300/10000]\tAverage Shortfall: $638,622.40\n",
      "Episode [5400/10000]\tAverage Shortfall: $657,549.28\n",
      "Episode [5500/10000]\tAverage Shortfall: $683,541.68\n",
      "Episode [5600/10000]\tAverage Shortfall: $635,025.61\n",
      "Episode [5700/10000]\tAverage Shortfall: $710,008.50\n",
      "Episode [5800/10000]\tAverage Shortfall: $712,451.39\n",
      "Episode [5900/10000]\tAverage Shortfall: $690,036.70\n",
      "Episode [6000/10000]\tAverage Shortfall: $643,696.89\n",
      "Episode [6100/10000]\tAverage Shortfall: $662,460.56\n",
      "Episode [6200/10000]\tAverage Shortfall: $649,546.35\n",
      "Episode [6300/10000]\tAverage Shortfall: $594,738.09\n",
      "Episode [6400/10000]\tAverage Shortfall: $646,735.34\n",
      "Episode [6500/10000]\tAverage Shortfall: $696,632.66\n",
      "Episode [6600/10000]\tAverage Shortfall: $622,804.83\n",
      "Episode [6700/10000]\tAverage Shortfall: $768,163.28\n",
      "Episode [6800/10000]\tAverage Shortfall: $677,710.52\n",
      "Episode [6900/10000]\tAverage Shortfall: $666,778.60\n",
      "Episode [7000/10000]\tAverage Shortfall: $640,610.93\n",
      "Episode [7100/10000]\tAverage Shortfall: $662,744.52\n",
      "Episode [7200/10000]\tAverage Shortfall: $629,368.37\n",
      "Episode [7300/10000]\tAverage Shortfall: $679,466.78\n",
      "Episode [7400/10000]\tAverage Shortfall: $711,143.63\n",
      "Episode [7500/10000]\tAverage Shortfall: $674,752.27\n",
      "Episode [7600/10000]\tAverage Shortfall: $657,696.76\n",
      "Episode [7700/10000]\tAverage Shortfall: $663,482.91\n",
      "Episode [7800/10000]\tAverage Shortfall: $652,421.56\n",
      "Episode [7900/10000]\tAverage Shortfall: $703,103.97\n",
      "Episode [8000/10000]\tAverage Shortfall: $737,284.83\n",
      "Episode [8100/10000]\tAverage Shortfall: $593,778.86\n",
      "Episode [8200/10000]\tAverage Shortfall: $726,038.88\n",
      "Episode [8300/10000]\tAverage Shortfall: $686,466.83\n",
      "Episode [8400/10000]\tAverage Shortfall: $640,664.38\n",
      "Episode [8500/10000]\tAverage Shortfall: $678,235.87\n",
      "Episode [8600/10000]\tAverage Shortfall: $711,235.62\n",
      "Episode [8700/10000]\tAverage Shortfall: $693,410.31\n",
      "Episode [8800/10000]\tAverage Shortfall: $693,807.10\n",
      "Episode [8900/10000]\tAverage Shortfall: $690,411.30\n",
      "Episode [9000/10000]\tAverage Shortfall: $665,404.01\n",
      "Episode [9100/10000]\tAverage Shortfall: $623,097.44\n",
      "Episode [9200/10000]\tAverage Shortfall: $726,627.13\n",
      "Episode [9300/10000]\tAverage Shortfall: $673,221.78\n",
      "Episode [9400/10000]\tAverage Shortfall: $632,122.18\n",
      "Episode [9500/10000]\tAverage Shortfall: $711,089.54\n",
      "Episode [9600/10000]\tAverage Shortfall: $694,303.16\n",
      "Episode [9700/10000]\tAverage Shortfall: $667,893.41\n",
      "Episode [9800/10000]\tAverage Shortfall: $666,003.73\n",
      "Episode [9900/10000]\tAverage Shortfall: $647,454.65\n",
      "Episode [10000/10000]\tAverage Shortfall: $624,692.09\n"
     ]
    }
   ],
   "source": [
    "# run train loop on custom agent\n",
    "\n",
    "ddpg_agent1 = AgentDDPG(state_size=env.observation_space_dimension(), action_size=env.action_space_dimension(), gamma=0.99,\n",
    "                actor_hidden_layers=(24, 48), critic_hidden_layers=(24, 48),\n",
    "                batch_size=128, learning_rate=(1e-4, 1e-3), weight_decay=(0,0), soft_upd_param=1e-3, update_every=1, buffer_size=int(1e4), seed=123)\n",
    "path_ddpg_agent1 = os.path.join('models','ddpg1')\n",
    "\n",
    "shortfall_hist1 = train(env, ddpg_agent1, n_episodes=10000, lqt= lqt, n_trades= n_trades, tr= tr, noise_decay=1.,\n",
    "        model_save_path=path_ddpg_agent1, action_scaler_fn=action_scaler_01\n",
    "                       )"
   ]
  },
  {
   "cell_type": "code",
   "execution_count": 45,
   "metadata": {},
   "outputs": [
    {
     "name": "stdout",
     "output_type": "stream",
     "text": [
      "Episode [100/10000]\tAverage Shortfall: $2,300,907.91\n",
      "Episode [200/10000]\tAverage Shortfall: $2,562,351.42\n",
      "Episode [300/10000]\tAverage Shortfall: $2,562,500.00\n",
      "Episode [400/10000]\tAverage Shortfall: $2,562,500.00\n",
      "Episode [500/10000]\tAverage Shortfall: $2,562,500.00\n",
      "Episode [600/10000]\tAverage Shortfall: $2,562,500.00\n",
      "Episode [700/10000]\tAverage Shortfall: $2,562,500.00\n",
      "Episode [800/10000]\tAverage Shortfall: $2,562,500.00\n",
      "Episode [900/10000]\tAverage Shortfall: $2,562,500.00\n",
      "Episode [1000/10000]\tAverage Shortfall: $2,562,500.00\n",
      "Episode [1100/10000]\tAverage Shortfall: $2,562,500.00\n",
      "Episode [1200/10000]\tAverage Shortfall: $2,562,500.00\n",
      "Episode [1300/10000]\tAverage Shortfall: $2,562,500.00\n",
      "Episode [1400/10000]\tAverage Shortfall: $2,562,500.00\n",
      "Episode [1500/10000]\tAverage Shortfall: $2,562,500.00\n",
      "Episode [1600/10000]\tAverage Shortfall: $2,562,500.00\n",
      "Episode [1700/10000]\tAverage Shortfall: $2,562,500.00\n",
      "Episode [1800/10000]\tAverage Shortfall: $2,562,500.00\n",
      "Episode [1900/10000]\tAverage Shortfall: $2,562,500.00\n",
      "Episode [2000/10000]\tAverage Shortfall: $2,562,500.00\n",
      "Episode [2100/10000]\tAverage Shortfall: $2,562,500.00\n",
      "Episode [2200/10000]\tAverage Shortfall: $2,562,500.00\n",
      "Episode [2300/10000]\tAverage Shortfall: $2,076,713.85\n",
      "Episode [2400/10000]\tAverage Shortfall: $501,416.92\n",
      "Episode [2500/10000]\tAverage Shortfall: $329,909.22\n",
      "Episode [2600/10000]\tAverage Shortfall: $496,949.84\n",
      "Episode [2700/10000]\tAverage Shortfall: $435,597.24\n",
      "Episode [2800/10000]\tAverage Shortfall: $402,969.27\n",
      "Episode [2900/10000]\tAverage Shortfall: $410,646.16\n",
      "Episode [3000/10000]\tAverage Shortfall: $425,654.24\n",
      "Episode [3100/10000]\tAverage Shortfall: $384,237.22\n",
      "Episode [3200/10000]\tAverage Shortfall: $431,804.28\n",
      "Episode [3300/10000]\tAverage Shortfall: $449,325.58\n",
      "Episode [3400/10000]\tAverage Shortfall: $463,354.93\n",
      "Episode [3500/10000]\tAverage Shortfall: $317,799.47\n",
      "Episode [3600/10000]\tAverage Shortfall: $362,405.59\n",
      "Episode [3700/10000]\tAverage Shortfall: $328,328.05\n",
      "Episode [3800/10000]\tAverage Shortfall: $219,960.77\n",
      "Episode [3900/10000]\tAverage Shortfall: $342,992.48\n",
      "Episode [4000/10000]\tAverage Shortfall: $310,867.08\n",
      "Episode [4100/10000]\tAverage Shortfall: $469,864.73\n",
      "Episode [4200/10000]\tAverage Shortfall: $397,052.80\n",
      "Episode [4300/10000]\tAverage Shortfall: $331,270.43\n",
      "Episode [4400/10000]\tAverage Shortfall: $396,544.99\n",
      "Episode [4500/10000]\tAverage Shortfall: $416,665.33\n",
      "Episode [4600/10000]\tAverage Shortfall: $282,708.72\n",
      "Episode [4700/10000]\tAverage Shortfall: $409,897.43\n",
      "Episode [4800/10000]\tAverage Shortfall: $359,532.27\n",
      "Episode [4900/10000]\tAverage Shortfall: $362,571.29\n",
      "Episode [5000/10000]\tAverage Shortfall: $161,196.00\n",
      "Episode [5100/10000]\tAverage Shortfall: $193,739.94\n",
      "Episode [5200/10000]\tAverage Shortfall: $333,246.64\n",
      "Episode [5300/10000]\tAverage Shortfall: $293,434.83\n",
      "Episode [5400/10000]\tAverage Shortfall: $298,672.82\n",
      "Episode [5500/10000]\tAverage Shortfall: $424,870.41\n",
      "Episode [5600/10000]\tAverage Shortfall: $220,275.28\n",
      "Episode [5700/10000]\tAverage Shortfall: $412,813.60\n",
      "Episode [5800/10000]\tAverage Shortfall: $369,451.98\n",
      "Episode [5900/10000]\tAverage Shortfall: $331,753.27\n",
      "Episode [6000/10000]\tAverage Shortfall: $269,448.83\n",
      "Episode [6100/10000]\tAverage Shortfall: $373,259.43\n",
      "Episode [6200/10000]\tAverage Shortfall: $247,232.59\n",
      "Episode [6300/10000]\tAverage Shortfall: $220,391.94\n",
      "Episode [6400/10000]\tAverage Shortfall: $265,033.70\n",
      "Episode [6500/10000]\tAverage Shortfall: $254,533.68\n",
      "Episode [6600/10000]\tAverage Shortfall: $214,310.83\n",
      "Episode [6700/10000]\tAverage Shortfall: $473,303.25\n",
      "Episode [6800/10000]\tAverage Shortfall: $311,729.01\n",
      "Episode [6900/10000]\tAverage Shortfall: $317,941.28\n",
      "Episode [7000/10000]\tAverage Shortfall: $277,688.96\n",
      "Episode [7100/10000]\tAverage Shortfall: $267,979.71\n",
      "Episode [7200/10000]\tAverage Shortfall: $210,295.14\n",
      "Episode [7300/10000]\tAverage Shortfall: $264,918.33\n",
      "Episode [7400/10000]\tAverage Shortfall: $421,450.86\n",
      "Episode [7500/10000]\tAverage Shortfall: $332,571.19\n",
      "Episode [7600/10000]\tAverage Shortfall: $136,335.53\n",
      "Episode [7700/10000]\tAverage Shortfall: $246,731.97\n",
      "Episode [7800/10000]\tAverage Shortfall: $123,222.50\n",
      "Episode [7900/10000]\tAverage Shortfall: $130,324.72\n",
      "Episode [8000/10000]\tAverage Shortfall: $401,256.74\n",
      "Episode [8100/10000]\tAverage Shortfall: $86,080.90\n",
      "Episode [8200/10000]\tAverage Shortfall: $314,070.44\n",
      "Episode [8300/10000]\tAverage Shortfall: $249,890.36\n",
      "Episode [8400/10000]\tAverage Shortfall: $80,532.45\n",
      "Episode [8500/10000]\tAverage Shortfall: $224,699.76\n",
      "Episode [8600/10000]\tAverage Shortfall: $316,366.47\n",
      "Episode [8700/10000]\tAverage Shortfall: $394,843.08\n",
      "Episode [8800/10000]\tAverage Shortfall: $269,427.42\n",
      "Episode [8900/10000]\tAverage Shortfall: $255,478.47\n",
      "Episode [9000/10000]\tAverage Shortfall: $158,709.21\n",
      "Episode [9100/10000]\tAverage Shortfall: $60,323.71\n",
      "Episode [9200/10000]\tAverage Shortfall: $470,884.58\n",
      "Episode [9300/10000]\tAverage Shortfall: $262,930.34\n",
      "Episode [9400/10000]\tAverage Shortfall: $150,621.63\n",
      "Episode [9500/10000]\tAverage Shortfall: $347,753.56\n",
      "Episode [9600/10000]\tAverage Shortfall: $321,980.13\n",
      "Episode [9700/10000]\tAverage Shortfall: $304,621.47\n",
      "Episode [9800/10000]\tAverage Shortfall: $187,839.45\n",
      "Episode [9900/10000]\tAverage Shortfall: $343,223.49\n",
      "Episode [10000/10000]\tAverage Shortfall: $105,981.16\n"
     ]
    }
   ],
   "source": [
    "# run train loop on custom agent\n",
    "\n",
    "ddpg_agent2 = AgentDDPG(state_size=env.observation_space_dimension(), action_size=env.action_space_dimension(), gamma=0.99,\n",
    "                actor_hidden_layers=(24, 48), critic_hidden_layers=(24, 48),\n",
    "                batch_size=128, learning_rate=(1e-4, 1e-3), weight_decay=(0,0), soft_upd_param=1e-3, update_every=1, buffer_size=int(1e4), seed=123)\n",
    "path_ddpg_agent2 = os.path.join('models', 'ddpg2')\n",
    "\n",
    "shortfall_hist2 = train(env, ddpg_agent2, n_episodes=10000, lqt= lqt, n_trades= n_trades, tr= tr, noise_decay=.9998,\n",
    "        model_save_path=path_ddpg_agent2, action_scaler_fn=action_scaler_01\n",
    "                       )"
   ]
  },
  {
   "cell_type": "code",
   "execution_count": 46,
   "metadata": {},
   "outputs": [
    {
     "name": "stdout",
     "output_type": "stream",
     "text": [
      "Episode [100/5000]\tAverage Shortfall: $2,240,247.47\n",
      "Episode [200/5000]\tAverage Shortfall: $2,562,500.00\n",
      "Episode [300/5000]\tAverage Shortfall: $2,562,500.00\n",
      "Episode [400/5000]\tAverage Shortfall: $2,562,500.00\n",
      "Episode [500/5000]\tAverage Shortfall: $2,562,500.00\n",
      "Episode [600/5000]\tAverage Shortfall: $2,562,500.00\n",
      "Episode [700/5000]\tAverage Shortfall: $2,562,500.00\n",
      "Episode [800/5000]\tAverage Shortfall: $2,562,500.00\n",
      "Episode [900/5000]\tAverage Shortfall: $2,562,500.00\n",
      "Episode [1000/5000]\tAverage Shortfall: $2,562,500.00\n",
      "Episode [1100/5000]\tAverage Shortfall: $2,562,500.00\n",
      "Episode [1200/5000]\tAverage Shortfall: $2,562,500.00\n",
      "Episode [1300/5000]\tAverage Shortfall: $2,562,500.00\n",
      "Episode [1400/5000]\tAverage Shortfall: $2,562,500.00\n",
      "Episode [1500/5000]\tAverage Shortfall: $2,562,500.00\n",
      "Episode [1600/5000]\tAverage Shortfall: $2,562,500.00\n",
      "Episode [1700/5000]\tAverage Shortfall: $2,562,500.00\n",
      "Episode [1800/5000]\tAverage Shortfall: $2,562,500.00\n",
      "Episode [1900/5000]\tAverage Shortfall: $2,562,500.00\n",
      "Episode [2000/5000]\tAverage Shortfall: $2,562,500.00\n",
      "Episode [2100/5000]\tAverage Shortfall: $1,770,461.78\n",
      "Episode [2200/5000]\tAverage Shortfall: $406,625.61\n",
      "Episode [2300/5000]\tAverage Shortfall: $387,027.94\n",
      "Episode [2400/5000]\tAverage Shortfall: $258,314.57\n",
      "Episode [2500/5000]\tAverage Shortfall: $153,440.85\n",
      "Episode [2600/5000]\tAverage Shortfall: $366,287.01\n",
      "Episode [2700/5000]\tAverage Shortfall: $282,294.02\n",
      "Episode [2800/5000]\tAverage Shortfall: $248,358.21\n",
      "Episode [2900/5000]\tAverage Shortfall: $195,681.85\n",
      "Episode [3000/5000]\tAverage Shortfall: $320,950.97\n",
      "Episode [3100/5000]\tAverage Shortfall: $222,902.35\n",
      "Episode [3200/5000]\tAverage Shortfall: $254,376.40\n",
      "Episode [3300/5000]\tAverage Shortfall: $185,091.01\n",
      "Episode [3400/5000]\tAverage Shortfall: $299,325.28\n",
      "Episode [3500/5000]\tAverage Shortfall: $116,204.42\n",
      "Episode [3600/5000]\tAverage Shortfall: $187,991.92\n",
      "Episode [3700/5000]\tAverage Shortfall: $161,628.73\n",
      "Episode [3800/5000]\tAverage Shortfall: $16,122.84\n",
      "Episode [3900/5000]\tAverage Shortfall: $161,815.84\n",
      "Episode [4000/5000]\tAverage Shortfall: $156,155.80\n",
      "Episode [4100/5000]\tAverage Shortfall: $351,784.06\n",
      "Episode [4200/5000]\tAverage Shortfall: $248,976.29\n",
      "Episode [4300/5000]\tAverage Shortfall: $134,716.81\n",
      "Episode [4400/5000]\tAverage Shortfall: $333,759.59\n",
      "Episode [4500/5000]\tAverage Shortfall: $425,821.34\n",
      "Episode [4600/5000]\tAverage Shortfall: $115,947.02\n",
      "Episode [4700/5000]\tAverage Shortfall: $471,127.71\n",
      "Episode [4800/5000]\tAverage Shortfall: $441,430.95\n",
      "Episode [4900/5000]\tAverage Shortfall: $295,652.25\n",
      "Episode [5000/5000]\tAverage Shortfall: $321,288.88\n"
     ]
    }
   ],
   "source": [
    "# run train loop on custom agent\n",
    "ddpg_agent2 = AgentDDPG(state_size=env.observation_space_dimension(), action_size=env.action_space_dimension(), gamma=0.99,\n",
    "                actor_hidden_layers=(48, 24), critic_hidden_layers=(24, 48),\n",
    "                batch_size=128, learning_rate=(1e-4, 1e-3), weight_decay=(0,0), soft_upd_param=1e-3, update_every=1, buffer_size=int(1e4), seed=123)\n",
    "shortfall_hist2 = train(env, ddpg_agent2, n_episodes=5000, lqt= lqt, n_trades= n_trades, tr= tr, noise_decay=.9998,\n",
    "        model_save_path=os.path.join('models', 'ddpg2'), action_scaler_fn=action_scaler_01\n",
    "                       )"
   ]
  },
  {
   "cell_type": "code",
   "execution_count": null,
   "metadata": {},
   "outputs": [],
   "source": [
    "from src.ac_agent import AgentDDPG, GaussianProcess\n",
    "\n",
    "g_noise = GaussianProcess(num_agents, RND_SEED)"
   ]
  },
  {
   "cell_type": "code",
   "execution_count": null,
   "metadata": {},
   "outputs": [],
   "source": [
    "# run train loop on custom agent\n",
    "ddpg_agent3 = AgentDDPG(state_size=env.observation_space_dimension(), action_size=env.action_space_dimension(), gamma=0.99,\n",
    "                actor_hidden_layers=(48, 24), critic_hidden_layers=(24, 48),\n",
    "                batch_size=128, learning_rate=(1e-4, 1e-3), weight_decay=(0,0),\n",
    "                soft_upd_param=1e-3, update_every=1, buffer_size=int(1e4), noise=g_noise, seed=123)\n",
    "\n",
    "shortfall_hist3 = train(env, ddpg_agent3, n_episodes=5000, lqt= lqt, n_trades= n_trades, tr= tr, noise_decay=.9998,\n",
    "        model_save_path=os.path.join('models', 'ddpg3'), action_scaler_fn=action_scaler_01\n",
    "                       )"
   ]
  }
 ],
 "metadata": {
  "kernelspec": {
   "display_name": "Python 3",
   "language": "python",
   "name": "python3"
  },
  "language_info": {
   "codemirror_mode": {
    "name": "ipython",
    "version": 3
   },
   "file_extension": ".py",
   "mimetype": "text/x-python",
   "name": "python",
   "nbconvert_exporter": "python",
   "pygments_lexer": "ipython3",
   "version": "3.6.12"
  },
  "toc-autonumbering": true
 },
 "nbformat": 4,
 "nbformat_minor": 4
}
